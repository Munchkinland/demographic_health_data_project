{
    "cells": [
        {
            "cell_type": "markdown",
            "metadata": {},
            "source": [
                "# Explore here"
            ]
        },
        {
            "cell_type": "code",
            "execution_count": null,
            "metadata": {},
            "outputs": [],
            "source": [
                "#sol: https://github.com/4GeeksAcademy/regularized-linear-regression-project-tutorial/blob/main/solution.ipynb"
            ]
        },
        {
            "cell_type": "markdown",
            "metadata": {},
            "source": [
                "\n",
                "📝 Instructions\n",
                "Sociodemographic and health resource data at the county level in the United States (2018-2019)\n",
                "\n",
                "Sociodemographic and health resource data have been collected by county in the United States, and we want to explore if there is any relationship between health resources and sociodemographic data.\n",
                "\n",
                "To do this, it is necessary for you to establish a target variable (related to health) to conduct the analysis."
            ]
        },
        {
            "cell_type": "markdown",
            "metadata": {},
            "source": [
                "Step 1. Data Ingestion"
            ]
        },
        {
            "cell_type": "code",
            "execution_count": 1,
            "metadata": {},
            "outputs": [
                {
                    "data": {
                        "text/html": [
                            "<div>\n",
                            "<style scoped>\n",
                            "    .dataframe tbody tr th:only-of-type {\n",
                            "        vertical-align: middle;\n",
                            "    }\n",
                            "\n",
                            "    .dataframe tbody tr th {\n",
                            "        vertical-align: top;\n",
                            "    }\n",
                            "\n",
                            "    .dataframe thead th {\n",
                            "        text-align: right;\n",
                            "    }\n",
                            "</style>\n",
                            "<table border=\"1\" class=\"dataframe\">\n",
                            "  <thead>\n",
                            "    <tr style=\"text-align: right;\">\n",
                            "      <th></th>\n",
                            "      <th>fips</th>\n",
                            "      <th>TOT_POP</th>\n",
                            "      <th>0-9</th>\n",
                            "      <th>0-9 y/o % of total pop</th>\n",
                            "      <th>19-Oct</th>\n",
                            "      <th>10-19 y/o % of total pop</th>\n",
                            "      <th>20-29</th>\n",
                            "      <th>20-29 y/o % of total pop</th>\n",
                            "      <th>30-39</th>\n",
                            "      <th>30-39 y/o % of total pop</th>\n",
                            "      <th>...</th>\n",
                            "      <th>COPD_number</th>\n",
                            "      <th>diabetes_prevalence</th>\n",
                            "      <th>diabetes_Lower 95% CI</th>\n",
                            "      <th>diabetes_Upper 95% CI</th>\n",
                            "      <th>diabetes_number</th>\n",
                            "      <th>CKD_prevalence</th>\n",
                            "      <th>CKD_Lower 95% CI</th>\n",
                            "      <th>CKD_Upper 95% CI</th>\n",
                            "      <th>CKD_number</th>\n",
                            "      <th>Urban_rural_code</th>\n",
                            "    </tr>\n",
                            "  </thead>\n",
                            "  <tbody>\n",
                            "    <tr>\n",
                            "      <th>0</th>\n",
                            "      <td>1001</td>\n",
                            "      <td>55601</td>\n",
                            "      <td>6787</td>\n",
                            "      <td>12.206615</td>\n",
                            "      <td>7637</td>\n",
                            "      <td>13.735364</td>\n",
                            "      <td>6878</td>\n",
                            "      <td>12.370281</td>\n",
                            "      <td>7089</td>\n",
                            "      <td>12.749771</td>\n",
                            "      <td>...</td>\n",
                            "      <td>3644</td>\n",
                            "      <td>12.9</td>\n",
                            "      <td>11.9</td>\n",
                            "      <td>13.8</td>\n",
                            "      <td>5462</td>\n",
                            "      <td>3.1</td>\n",
                            "      <td>2.9</td>\n",
                            "      <td>3.3</td>\n",
                            "      <td>1326</td>\n",
                            "      <td>3</td>\n",
                            "    </tr>\n",
                            "    <tr>\n",
                            "      <th>1</th>\n",
                            "      <td>1003</td>\n",
                            "      <td>218022</td>\n",
                            "      <td>24757</td>\n",
                            "      <td>11.355276</td>\n",
                            "      <td>26913</td>\n",
                            "      <td>12.344167</td>\n",
                            "      <td>23579</td>\n",
                            "      <td>10.814964</td>\n",
                            "      <td>25213</td>\n",
                            "      <td>11.564429</td>\n",
                            "      <td>...</td>\n",
                            "      <td>14692</td>\n",
                            "      <td>12.0</td>\n",
                            "      <td>11.0</td>\n",
                            "      <td>13.1</td>\n",
                            "      <td>20520</td>\n",
                            "      <td>3.2</td>\n",
                            "      <td>3.0</td>\n",
                            "      <td>3.5</td>\n",
                            "      <td>5479</td>\n",
                            "      <td>4</td>\n",
                            "    </tr>\n",
                            "    <tr>\n",
                            "      <th>2</th>\n",
                            "      <td>1005</td>\n",
                            "      <td>24881</td>\n",
                            "      <td>2732</td>\n",
                            "      <td>10.980266</td>\n",
                            "      <td>2960</td>\n",
                            "      <td>11.896628</td>\n",
                            "      <td>3268</td>\n",
                            "      <td>13.134520</td>\n",
                            "      <td>3201</td>\n",
                            "      <td>12.865239</td>\n",
                            "      <td>...</td>\n",
                            "      <td>2373</td>\n",
                            "      <td>19.7</td>\n",
                            "      <td>18.6</td>\n",
                            "      <td>20.6</td>\n",
                            "      <td>3870</td>\n",
                            "      <td>4.5</td>\n",
                            "      <td>4.2</td>\n",
                            "      <td>4.8</td>\n",
                            "      <td>887</td>\n",
                            "      <td>6</td>\n",
                            "    </tr>\n",
                            "    <tr>\n",
                            "      <th>3</th>\n",
                            "      <td>1007</td>\n",
                            "      <td>22400</td>\n",
                            "      <td>2456</td>\n",
                            "      <td>10.964286</td>\n",
                            "      <td>2596</td>\n",
                            "      <td>11.589286</td>\n",
                            "      <td>3029</td>\n",
                            "      <td>13.522321</td>\n",
                            "      <td>3113</td>\n",
                            "      <td>13.897321</td>\n",
                            "      <td>...</td>\n",
                            "      <td>1789</td>\n",
                            "      <td>14.1</td>\n",
                            "      <td>13.2</td>\n",
                            "      <td>14.9</td>\n",
                            "      <td>2511</td>\n",
                            "      <td>3.3</td>\n",
                            "      <td>3.1</td>\n",
                            "      <td>3.6</td>\n",
                            "      <td>595</td>\n",
                            "      <td>2</td>\n",
                            "    </tr>\n",
                            "    <tr>\n",
                            "      <th>4</th>\n",
                            "      <td>1009</td>\n",
                            "      <td>57840</td>\n",
                            "      <td>7095</td>\n",
                            "      <td>12.266598</td>\n",
                            "      <td>7570</td>\n",
                            "      <td>13.087828</td>\n",
                            "      <td>6742</td>\n",
                            "      <td>11.656293</td>\n",
                            "      <td>6884</td>\n",
                            "      <td>11.901798</td>\n",
                            "      <td>...</td>\n",
                            "      <td>4661</td>\n",
                            "      <td>13.5</td>\n",
                            "      <td>12.6</td>\n",
                            "      <td>14.5</td>\n",
                            "      <td>6017</td>\n",
                            "      <td>3.4</td>\n",
                            "      <td>3.2</td>\n",
                            "      <td>3.7</td>\n",
                            "      <td>1507</td>\n",
                            "      <td>2</td>\n",
                            "    </tr>\n",
                            "  </tbody>\n",
                            "</table>\n",
                            "<p>5 rows × 108 columns</p>\n",
                            "</div>"
                        ],
                        "text/plain": [
                            "   fips  TOT_POP    0-9  0-9 y/o % of total pop  19-Oct  \\\n",
                            "0  1001    55601   6787               12.206615    7637   \n",
                            "1  1003   218022  24757               11.355276   26913   \n",
                            "2  1005    24881   2732               10.980266    2960   \n",
                            "3  1007    22400   2456               10.964286    2596   \n",
                            "4  1009    57840   7095               12.266598    7570   \n",
                            "\n",
                            "   10-19 y/o % of total pop  20-29  20-29 y/o % of total pop  30-39  \\\n",
                            "0                 13.735364   6878                 12.370281   7089   \n",
                            "1                 12.344167  23579                 10.814964  25213   \n",
                            "2                 11.896628   3268                 13.134520   3201   \n",
                            "3                 11.589286   3029                 13.522321   3113   \n",
                            "4                 13.087828   6742                 11.656293   6884   \n",
                            "\n",
                            "   30-39 y/o % of total pop  ...  COPD_number  diabetes_prevalence  \\\n",
                            "0                 12.749771  ...         3644                 12.9   \n",
                            "1                 11.564429  ...        14692                 12.0   \n",
                            "2                 12.865239  ...         2373                 19.7   \n",
                            "3                 13.897321  ...         1789                 14.1   \n",
                            "4                 11.901798  ...         4661                 13.5   \n",
                            "\n",
                            "   diabetes_Lower 95% CI  diabetes_Upper 95% CI  diabetes_number  \\\n",
                            "0                   11.9                   13.8             5462   \n",
                            "1                   11.0                   13.1            20520   \n",
                            "2                   18.6                   20.6             3870   \n",
                            "3                   13.2                   14.9             2511   \n",
                            "4                   12.6                   14.5             6017   \n",
                            "\n",
                            "   CKD_prevalence  CKD_Lower 95% CI  CKD_Upper 95% CI  CKD_number  \\\n",
                            "0             3.1               2.9               3.3        1326   \n",
                            "1             3.2               3.0               3.5        5479   \n",
                            "2             4.5               4.2               4.8         887   \n",
                            "3             3.3               3.1               3.6         595   \n",
                            "4             3.4               3.2               3.7        1507   \n",
                            "\n",
                            "   Urban_rural_code  \n",
                            "0                 3  \n",
                            "1                 4  \n",
                            "2                 6  \n",
                            "3                 2  \n",
                            "4                 2  \n",
                            "\n",
                            "[5 rows x 108 columns]"
                        ]
                    },
                    "execution_count": 1,
                    "metadata": {},
                    "output_type": "execute_result"
                }
            ],
            "source": [
                "# Your code here\n",
                "import pandas as pd\n",
                "\n",
                "total_data = pd.read_csv(\"https://raw.githubusercontent.com/4GeeksAcademy/regularized-linear-regression-project-tutorial/main/demographic_health_data.csv\", sep = \",\")\n",
                "total_data.head()"
            ]
        },
        {
            "cell_type": "code",
            "execution_count": 7,
            "metadata": {},
            "outputs": [
                {
                    "data": {
                        "text/plain": [
                            "<bound method DataFrame.info of        fips  TOT_POP    0-9  0-9 y/o % of total pop  19-Oct  \\\n",
                            "0      1001    55601   6787               12.206615    7637   \n",
                            "1      1003   218022  24757               11.355276   26913   \n",
                            "2      1005    24881   2732               10.980266    2960   \n",
                            "3      1007    22400   2456               10.964286    2596   \n",
                            "4      1009    57840   7095               12.266598    7570   \n",
                            "...     ...      ...    ...                     ...     ...   \n",
                            "3135  56037    43051   6104               14.178532    6326   \n",
                            "3136  56039    23081   2384               10.328842    2185   \n",
                            "3137  56041    20299   3121               15.375142    3205   \n",
                            "3138  56043     7885    858               10.881420    1113   \n",
                            "3139  56045     6967    780               11.195637     779   \n",
                            "\n",
                            "      10-19 y/o % of total pop  20-29  20-29 y/o % of total pop  30-39  \\\n",
                            "0                    13.735364   6878                 12.370281   7089   \n",
                            "1                    12.344167  23579                 10.814964  25213   \n",
                            "2                    11.896628   3268                 13.134520   3201   \n",
                            "3                    11.589286   3029                 13.522321   3113   \n",
                            "4                    13.087828   6742                 11.656293   6884   \n",
                            "...                        ...    ...                       ...    ...   \n",
                            "3135                 14.694200   5359                 12.448027   6577   \n",
                            "3136                  9.466661   2967                 12.854729   4093   \n",
                            "3137                 15.788955   2153                 10.606434   2702   \n",
                            "3138                 14.115409    715                  9.067850    903   \n",
                            "3139                 11.181283    681                  9.774652    906   \n",
                            "\n",
                            "      30-39 y/o % of total pop  ...  COPD_number  diabetes_prevalence  \\\n",
                            "0                    12.749771  ...         3644                 12.9   \n",
                            "1                    11.564429  ...        14692                 12.0   \n",
                            "2                    12.865239  ...         2373                 19.7   \n",
                            "3                    13.897321  ...         1789                 14.1   \n",
                            "4                    11.901798  ...         4661                 13.5   \n",
                            "...                        ...  ...          ...                  ...   \n",
                            "3135                 15.277229  ...         2098                  8.9   \n",
                            "3136                 17.733200  ...          928                  7.2   \n",
                            "3137                 13.311001  ...         1163                 10.4   \n",
                            "3138                 11.452124  ...          506                 11.3   \n",
                            "3139                 13.004162  ...          480                 11.7   \n",
                            "\n",
                            "      diabetes_Lower 95% CI  diabetes_Upper 95% CI  diabetes_number  \\\n",
                            "0                      11.9                   13.8             5462   \n",
                            "1                      11.0                   13.1            20520   \n",
                            "2                      18.6                   20.6             3870   \n",
                            "3                      13.2                   14.9             2511   \n",
                            "4                      12.6                   14.5             6017   \n",
                            "...                     ...                    ...              ...   \n",
                            "3135                    8.3                    9.6             2834   \n",
                            "3136                    6.5                    8.0             1360   \n",
                            "3137                    9.5                   11.2             1500   \n",
                            "3138                   10.3                   12.1              686   \n",
                            "3139                   10.7                   12.7              644   \n",
                            "\n",
                            "      CKD_prevalence  CKD_Lower 95% CI  CKD_Upper 95% CI  CKD_number  \\\n",
                            "0                3.1               2.9               3.3        1326   \n",
                            "1                3.2               3.0               3.5        5479   \n",
                            "2                4.5               4.2               4.8         887   \n",
                            "3                3.3               3.1               3.6         595   \n",
                            "4                3.4               3.2               3.7        1507   \n",
                            "...              ...               ...               ...         ...   \n",
                            "3135             2.6               2.4               2.8         821   \n",
                            "3136             2.4               2.2               2.6         447   \n",
                            "3137             3.0               2.8               3.2         430   \n",
                            "3138             3.4               3.2               3.7         207   \n",
                            "3139             3.4               3.1               3.6         185   \n",
                            "\n",
                            "      Urban_rural_code  \n",
                            "0                    3  \n",
                            "1                    4  \n",
                            "2                    6  \n",
                            "3                    2  \n",
                            "4                    2  \n",
                            "...                ...  \n",
                            "3135                 5  \n",
                            "3136                 5  \n",
                            "3137                 5  \n",
                            "3138                 6  \n",
                            "3139                 6  \n",
                            "\n",
                            "[3140 rows x 108 columns]>"
                        ]
                    },
                    "execution_count": 7,
                    "metadata": {},
                    "output_type": "execute_result"
                }
            ],
            "source": [
                "total_data.info"
            ]
        },
        {
            "cell_type": "code",
            "execution_count": 8,
            "metadata": {},
            "outputs": [
                {
                    "data": {
                        "text/plain": [
                            "(3140, 108)"
                        ]
                    },
                    "execution_count": 8,
                    "metadata": {},
                    "output_type": "execute_result"
                }
            ],
            "source": [
                "total_data.shape"
            ]
        },
        {
            "cell_type": "markdown",
            "metadata": {},
            "source": [
                "Step 2. Data preparation: EDA"
            ]
        },
        {
            "cell_type": "markdown",
            "metadata": {},
            "source": [
                "2.1 Drop duplicates and null values"
            ]
        },
        {
            "cell_type": "code",
            "execution_count": 11,
            "metadata": {},
            "outputs": [
                {
                    "name": "stdout",
                    "output_type": "stream",
                    "text": [
                        "Duplicates values: 0\n",
                        "Null values: fips                      0\n",
                        "TOT_POP                   0\n",
                        "0-9                       0\n",
                        "0-9 y/o % of total pop    0\n",
                        "19-Oct                    0\n",
                        "                         ..\n",
                        "CKD_prevalence            0\n",
                        "CKD_Lower 95% CI          0\n",
                        "CKD_Upper 95% CI          0\n",
                        "CKD_number                0\n",
                        "Urban_rural_code          0\n",
                        "Length: 108, dtype: int64\n"
                    ]
                }
            ],
            "source": [
                "duplicates = total_data.duplicated().sum()\n",
                "# Imprimir la cantidad de valores duplicados\n",
                "print(\"Duplicates values:\", duplicates)\n",
                "\n",
                "nulls = total_data.isnull().sum()\n",
                "print(\"Null values:\", nulls)"
            ]
        },
        {
            "cell_type": "markdown",
            "metadata": {},
            "source": [
                "There are no null or duplicate values ​​in total_data"
            ]
        },
        {
            "cell_type": "markdown",
            "metadata": {},
            "source": [
                "Selection of Target Variable for Predictive Modeling: Focusing on Renal Disease (CKD)"
            ]
        },
        {
            "cell_type": "markdown",
            "metadata": {},
            "source": [
                "Justification: \n",
                "\n",
                "After reviewing the dataframe and the data dictionary file at https://raw.githubusercontent.com/4GeeksAcademy/regularized-linear-regression-project-tutorial/main/data_dict.csv, we have chosen to predict the occurrence of renal diseases (CKD). We believe that the sample may be sufficiently representative to perform the prediction using linear regression techniques."
            ]
        },
        {
            "cell_type": "markdown",
            "metadata": {},
            "source": [
                "Quick EDA"
            ]
        },
        {
            "cell_type": "code",
            "execution_count": null,
            "metadata": {},
            "outputs": [],
            "source": []
        },
        {
            "cell_type": "code",
            "execution_count": null,
            "metadata": {},
            "outputs": [],
            "source": []
        },
        {
            "cell_type": "code",
            "execution_count": null,
            "metadata": {},
            "outputs": [],
            "source": []
        }
    ],
    "metadata": {
        "kernelspec": {
            "display_name": "Python 3.8.13 64-bit ('3.8.13')",
            "language": "python",
            "name": "python3"
        },
        "language_info": {
            "codemirror_mode": {
                "name": "ipython",
                "version": 3
            },
            "file_extension": ".py",
            "mimetype": "text/x-python",
            "name": "python",
            "nbconvert_exporter": "python",
            "pygments_lexer": "ipython3",
            "version": "3.12.0"
        },
        "orig_nbformat": 4,
        "vscode": {
            "interpreter": {
                "hash": "110cc1dee26208153f2972f08a2ad52b6a56238dc66d48e87fb757ef2996db56"
            }
        }
    },
    "nbformat": 4,
    "nbformat_minor": 2
}
